{
 "cells": [
  {
   "cell_type": "code",
   "execution_count": 1,
   "metadata": {},
   "outputs": [],
   "source": [
    "#ignoring the warnings\n",
    "from warnings import simplefilter\n",
    "simplefilter(action='ignore', category=FutureWarning)"
   ]
  },
  {
   "cell_type": "code",
   "execution_count": 26,
   "metadata": {},
   "outputs": [],
   "source": [
    "#importing the necessary packages\n",
    "import numpy as np\n",
    "import cv2\n",
    "import os\n",
    "from imutils import paths\n",
    "from tensorflow.keras.preprocessing.image import ImageDataGenerator\n",
    "from tensorflow.keras.applications import VGG16\n",
    "from tensorflow.keras.layers import AveragePooling2D\n",
    "from tensorflow.keras.layers import Dropout\n",
    "from tensorflow.keras.layers import Flatten\n",
    "from tensorflow.keras.layers import Dense\n",
    "from tensorflow.keras.layers import Input\n",
    "from tensorflow.keras.models import Model\n",
    "from tensorflow.keras.optimizers import Adam\n",
    "from tensorflow.keras.utils import to_categorical\n",
    "import matplotlib.pyplot as plt\n",
    "from sklearn.preprocessing import LabelBinarizer\n",
    "from sklearn.model_selection import train_test_split\n",
    "from sklearn.metrics import classification_report\n",
    "from sklearn.metrics import confusion_matrix"
   ]
  },
  {
   "cell_type": "code",
   "execution_count": null,
   "metadata": {},
   "outputs": [],
   "source": [
    "#setting arguments \n",
    "args = {\"dataset\": \"./dataset\",\n",
    "        \"model\": \"corona.model\"\n",
    "       }"
   ]
  },
  {
   "cell_type": "code",
   "execution_count": 3,
   "metadata": {},
   "outputs": [],
   "source": [
    "\"\"\"initializing the initial learning rate, epochs to train\n",
    "   and batch size\"\"\"\n",
    "learningRate = 1e-3\n",
    "epochs = 61\n",
    "batchSize = 8"
   ]
  },
  {
   "cell_type": "code",
   "execution_count": 4,
   "metadata": {},
   "outputs": [],
   "source": [
    "\"\"\"listing out the images in the dataset folder, then initializing\n",
    "   the list of data (images) and class images\"\"\"\n",
    "imagePaths = list(paths.list_images(args[\"dataset\"]))\n",
    "data = []\n",
    "labels = []\n",
    "\n",
    "#looping over the images paths\n",
    "for imagePath in imagePaths:\n",
    "    \n",
    "    #extracting the class label from image paths\n",
    "    label = imagePath.split(os.path.sep)[-2]\n",
    "\n",
    "    \"\"\"loading the images, changing color channels and resizing it to be a fixed\n",
    "       224x224 pixels\"\"\"\n",
    "    image = cv2.imread(imagePath)\n",
    "    image = cv2.cvtColor(image, cv2.COLOR_BGR2RGB)\n",
    "    image = cv2.resize(image, (224, 224))\n",
    "\n",
    "    #updating the data and labels lists\n",
    "    data.append(image)\n",
    "    labels.append(label)\n",
    "\n",
    "\"\"\"converting the data and labels to NumPy arrays and scaling the pixel\n",
    "   intensities to the range [0, 255]\"\"\"\n",
    "data = np.array(data) / 255.0\n",
    "labels = np.array(labels)"
   ]
  },
  {
   "cell_type": "code",
   "execution_count": 5,
   "metadata": {},
   "outputs": [],
   "source": [
    "#using one-hot encoding on labels\n",
    "lb = LabelBinarizer()\n",
    "labels = lb.fit_transform(labels)\n",
    "labels = to_categorical(labels)\n",
    "\n",
    "\"\"\"splitting the data into training and testing using 80% of\n",
    "   the data for training and 20% for testing\"\"\"\n",
    "(trainX, testX, trainY, testY) = train_test_split(data, labels, test_size=0.20, stratify=labels, \n",
    "                                                  random_state=42)\n",
    "\n",
    "#initializing the training data augmentation object\n",
    "trainAug = ImageDataGenerator(\n",
    "    rotation_range=15,\n",
    "    fill_mode=\"nearest\")"
   ]
  },
  {
   "cell_type": "code",
   "execution_count": 6,
   "metadata": {},
   "outputs": [
    {
     "name": "stdout",
     "output_type": "stream",
     "text": [
      "WARNING:tensorflow:From /home/apoorvsrivastava/anaconda3/lib/python3.7/site-packages/tensorflow/python/ops/init_ops.py:1251: calling VarianceScaling.__init__ (from tensorflow.python.ops.init_ops) with dtype is deprecated and will be removed in a future version.\n",
      "Instructions for updating:\n",
      "Call initializer instance with the dtype argument instead of passing it to the constructor\n"
     ]
    }
   ],
   "source": [
    "#loading the VGG16 network, ensuring the head FC layer sets are left\n",
    "baseModel = VGG16(weights=\"imagenet\", include_top=False, input_tensor=Input(shape=(224, 224, 3)))\n",
    "\n",
    "\"\"\"constructing the main model that will be placed on top of the\n",
    "   the base model\"\"\"\n",
    "mainModel = baseModel.output\n",
    "mainModel = AveragePooling2D(pool_size=(4, 4))(mainModel)\n",
    "mainModel = Flatten(name=\"flatten\")(mainModel)\n",
    "mainModel = Dense(64, activation=\"relu\")(mainModel)\n",
    "mainModel = Dropout(0.5)(mainModel)\n",
    "mainModel = Dense(2, activation=\"softmax\")(mainModel)\n",
    "\n",
    "#lace the head FC model on top of the base model (actual model)\n",
    "model = Model(inputs=baseModel.input, outputs=mainModel)\n",
    "\n",
    "\"\"\"looping over all layers in the base model and freeze them so they will \n",
    "   not be updated during the first training process\"\"\"\n",
    "for layer in baseModel.layers:\n",
    "    layer.trainable = False"
   ]
  },
  {
   "cell_type": "code",
   "execution_count": 7,
   "metadata": {},
   "outputs": [
    {
     "name": "stdout",
     "output_type": "stream",
     "text": [
      "Epoch 1/61\n",
      "WARNING:tensorflow:From /home/apoorvsrivastava/anaconda3/lib/python3.7/site-packages/tensorflow/python/ops/math_grad.py:1250: add_dispatch_support.<locals>.wrapper (from tensorflow.python.ops.array_ops) is deprecated and will be removed in a future version.\n",
      "Instructions for updating:\n",
      "Use tf.where in 2.0, which has the same broadcast rule as np.where\n",
      "11/11 [==============================] - 11s 1s/step - loss: 0.7579 - acc: 0.4773 - val_loss: 0.6252 - val_acc: 0.5652\n",
      "Epoch 2/61\n",
      "11/11 [==============================] - 13s 1s/step - loss: 0.6596 - acc: 0.6250 - val_loss: 0.5809 - val_acc: 0.7826\n",
      "Epoch 3/61\n",
      "11/11 [==============================] - 14s 1s/step - loss: 0.6198 - acc: 0.6818 - val_loss: 0.5513 - val_acc: 0.7826\n",
      "Epoch 4/61\n",
      "11/11 [==============================] - 14s 1s/step - loss: 0.5679 - acc: 0.7500 - val_loss: 0.5211 - val_acc: 0.7826\n",
      "Epoch 5/61\n",
      "11/11 [==============================] - 14s 1s/step - loss: 0.5355 - acc: 0.7727 - val_loss: 0.4935 - val_acc: 0.8261\n",
      "Epoch 6/61\n",
      "11/11 [==============================] - 14s 1s/step - loss: 0.4718 - acc: 0.8636 - val_loss: 0.4719 - val_acc: 0.8696\n",
      "Epoch 7/61\n",
      "11/11 [==============================] - 14s 1s/step - loss: 0.4235 - acc: 0.8864 - val_loss: 0.4512 - val_acc: 0.7826\n",
      "Epoch 8/61\n",
      "11/11 [==============================] - 14s 1s/step - loss: 0.3956 - acc: 0.8864 - val_loss: 0.4172 - val_acc: 0.8261\n",
      "Epoch 9/61\n",
      "11/11 [==============================] - 14s 1s/step - loss: 0.4025 - acc: 0.8523 - val_loss: 0.3988 - val_acc: 0.8696\n",
      "Epoch 10/61\n",
      "11/11 [==============================] - 14s 1s/step - loss: 0.3840 - acc: 0.8523 - val_loss: 0.3728 - val_acc: 0.8696\n",
      "Epoch 11/61\n",
      "11/11 [==============================] - 14s 1s/step - loss: 0.3709 - acc: 0.8977 - val_loss: 0.3590 - val_acc: 0.7826\n",
      "Epoch 12/61\n",
      "11/11 [==============================] - 14s 1s/step - loss: 0.3583 - acc: 0.8750 - val_loss: 0.3343 - val_acc: 0.9130\n",
      "Epoch 13/61\n",
      "11/11 [==============================] - 15s 1s/step - loss: 0.3579 - acc: 0.9091 - val_loss: 0.3212 - val_acc: 0.8696\n",
      "Epoch 14/61\n",
      "11/11 [==============================] - 15s 1s/step - loss: 0.2799 - acc: 0.9545 - val_loss: 0.3012 - val_acc: 0.9130\n",
      "Epoch 15/61\n",
      "11/11 [==============================] - 15s 1s/step - loss: 0.3000 - acc: 0.9091 - val_loss: 0.2855 - val_acc: 0.9130\n",
      "Epoch 16/61\n",
      "11/11 [==============================] - 15s 1s/step - loss: 0.2670 - acc: 0.9545 - val_loss: 0.2771 - val_acc: 0.9130\n",
      "Epoch 17/61\n",
      "11/11 [==============================] - 15s 1s/step - loss: 0.2445 - acc: 0.9432 - val_loss: 0.2660 - val_acc: 0.8696\n",
      "Epoch 18/61\n",
      "11/11 [==============================] - 15s 1s/step - loss: 0.2219 - acc: 0.9545 - val_loss: 0.2482 - val_acc: 0.9130\n",
      "Epoch 19/61\n",
      "11/11 [==============================] - 15s 1s/step - loss: 0.2282 - acc: 0.9545 - val_loss: 0.2480 - val_acc: 0.8261\n",
      "Epoch 20/61\n",
      "11/11 [==============================] - 15s 1s/step - loss: 0.2130 - acc: 0.9659 - val_loss: 0.2385 - val_acc: 0.9130\n",
      "Epoch 21/61\n",
      "11/11 [==============================] - 15s 1s/step - loss: 0.2128 - acc: 0.9318 - val_loss: 0.2350 - val_acc: 0.9130\n",
      "Epoch 22/61\n",
      "11/11 [==============================] - 16s 1s/step - loss: 0.1661 - acc: 0.9886 - val_loss: 0.2175 - val_acc: 0.9130\n",
      "Epoch 23/61\n",
      "11/11 [==============================] - 15s 1s/step - loss: 0.1669 - acc: 0.9545 - val_loss: 0.2189 - val_acc: 0.9130\n",
      "Epoch 24/61\n",
      "11/11 [==============================] - 15s 1s/step - loss: 0.1523 - acc: 0.9659 - val_loss: 0.2112 - val_acc: 0.9565\n",
      "Epoch 25/61\n",
      "11/11 [==============================] - 15s 1s/step - loss: 0.1588 - acc: 0.9545 - val_loss: 0.2049 - val_acc: 0.9130\n",
      "Epoch 26/61\n",
      "11/11 [==============================] - 15s 1s/step - loss: 0.1553 - acc: 0.9773 - val_loss: 0.2066 - val_acc: 0.9130\n",
      "Epoch 27/61\n",
      "11/11 [==============================] - 15s 1s/step - loss: 0.1622 - acc: 0.9432 - val_loss: 0.2021 - val_acc: 0.9130\n",
      "Epoch 28/61\n",
      "11/11 [==============================] - 15s 1s/step - loss: 0.1386 - acc: 0.9886 - val_loss: 0.2023 - val_acc: 0.9130\n",
      "Epoch 29/61\n",
      "11/11 [==============================] - 15s 1s/step - loss: 0.1527 - acc: 0.9773 - val_loss: 0.1857 - val_acc: 0.9130\n",
      "Epoch 30/61\n",
      "11/11 [==============================] - 15s 1s/step - loss: 0.1736 - acc: 0.9318 - val_loss: 0.1848 - val_acc: 0.9565\n",
      "Epoch 31/61\n",
      "11/11 [==============================] - 15s 1s/step - loss: 0.1429 - acc: 0.9659 - val_loss: 0.1793 - val_acc: 0.9565\n",
      "Epoch 32/61\n",
      "11/11 [==============================] - 15s 1s/step - loss: 0.1222 - acc: 0.9659 - val_loss: 0.1843 - val_acc: 0.9130\n",
      "Epoch 33/61\n",
      "11/11 [==============================] - 15s 1s/step - loss: 0.1559 - acc: 0.9432 - val_loss: 0.1743 - val_acc: 0.9130\n",
      "Epoch 34/61\n",
      "11/11 [==============================] - 15s 1s/step - loss: 0.1291 - acc: 0.9545 - val_loss: 0.1914 - val_acc: 0.9130\n",
      "Epoch 35/61\n",
      "11/11 [==============================] - 15s 1s/step - loss: 0.1162 - acc: 0.9773 - val_loss: 0.1823 - val_acc: 0.9130\n",
      "Epoch 36/61\n",
      "11/11 [==============================] - 15s 1s/step - loss: 0.1217 - acc: 0.9886 - val_loss: 0.1828 - val_acc: 0.9130\n",
      "Epoch 37/61\n",
      "11/11 [==============================] - 15s 1s/step - loss: 0.1009 - acc: 1.0000 - val_loss: 0.1862 - val_acc: 0.9130\n",
      "Epoch 38/61\n",
      "11/11 [==============================] - 15s 1s/step - loss: 0.0808 - acc: 0.9886 - val_loss: 0.1770 - val_acc: 0.8696\n",
      "Epoch 39/61\n",
      "11/11 [==============================] - 15s 1s/step - loss: 0.1173 - acc: 0.9318 - val_loss: 0.1781 - val_acc: 0.9130\n",
      "Epoch 40/61\n",
      "11/11 [==============================] - 15s 1s/step - loss: 0.0991 - acc: 0.9773 - val_loss: 0.1862 - val_acc: 0.9130\n",
      "Epoch 41/61\n",
      "11/11 [==============================] - 15s 1s/step - loss: 0.0965 - acc: 0.9886 - val_loss: 0.1764 - val_acc: 0.9130\n",
      "Epoch 42/61\n",
      "11/11 [==============================] - 15s 1s/step - loss: 0.1122 - acc: 0.9659 - val_loss: 0.1668 - val_acc: 0.9130\n",
      "Epoch 43/61\n",
      "11/11 [==============================] - 15s 1s/step - loss: 0.1060 - acc: 0.9659 - val_loss: 0.1580 - val_acc: 0.9130\n",
      "Epoch 44/61\n",
      "11/11 [==============================] - 15s 1s/step - loss: 0.0968 - acc: 0.9659 - val_loss: 0.2037 - val_acc: 0.9130\n",
      "Epoch 45/61\n",
      "11/11 [==============================] - 15s 1s/step - loss: 0.1009 - acc: 0.9659 - val_loss: 0.1646 - val_acc: 0.9130\n",
      "Epoch 46/61\n",
      "11/11 [==============================] - 15s 1s/step - loss: 0.0703 - acc: 0.9886 - val_loss: 0.1634 - val_acc: 0.9130\n",
      "Epoch 47/61\n",
      "11/11 [==============================] - 15s 1s/step - loss: 0.0633 - acc: 1.0000 - val_loss: 0.1690 - val_acc: 0.9130\n",
      "Epoch 48/61\n",
      "11/11 [==============================] - 15s 1s/step - loss: 0.0752 - acc: 0.9773 - val_loss: 0.1796 - val_acc: 0.9130\n",
      "Epoch 49/61\n",
      "11/11 [==============================] - 15s 1s/step - loss: 0.1070 - acc: 0.9659 - val_loss: 0.1566 - val_acc: 0.9130\n",
      "Epoch 50/61\n",
      "11/11 [==============================] - 15s 1s/step - loss: 0.0675 - acc: 0.9886 - val_loss: 0.1691 - val_acc: 0.9130\n",
      "Epoch 51/61\n",
      "11/11 [==============================] - 15s 1s/step - loss: 0.0675 - acc: 1.0000 - val_loss: 0.1929 - val_acc: 0.9130\n",
      "Epoch 52/61\n",
      "11/11 [==============================] - 15s 1s/step - loss: 0.0771 - acc: 0.9773 - val_loss: 0.1421 - val_acc: 0.9130\n",
      "Epoch 53/61\n",
      "11/11 [==============================] - 15s 1s/step - loss: 0.0725 - acc: 0.9773 - val_loss: 0.1377 - val_acc: 0.9565\n",
      "Epoch 54/61\n",
      "11/11 [==============================] - 15s 1s/step - loss: 0.0669 - acc: 0.9886 - val_loss: 0.1491 - val_acc: 0.9130\n",
      "Epoch 55/61\n",
      "11/11 [==============================] - 15s 1s/step - loss: 0.0642 - acc: 0.9886 - val_loss: 0.1270 - val_acc: 0.9565\n",
      "Epoch 56/61\n",
      "11/11 [==============================] - 15s 1s/step - loss: 0.0563 - acc: 0.9886 - val_loss: 0.1290 - val_acc: 0.9565\n",
      "Epoch 57/61\n",
      "11/11 [==============================] - 15s 1s/step - loss: 0.0754 - acc: 1.0000 - val_loss: 0.1316 - val_acc: 0.9565\n",
      "Epoch 58/61\n",
      "11/11 [==============================] - 15s 1s/step - loss: 0.0582 - acc: 0.9886 - val_loss: 0.1279 - val_acc: 0.9565\n",
      "Epoch 59/61\n",
      "11/11 [==============================] - 15s 1s/step - loss: 0.1019 - acc: 0.9545 - val_loss: 0.1822 - val_acc: 0.9130\n",
      "Epoch 60/61\n",
      "11/11 [==============================] - 15s 1s/step - loss: 0.0730 - acc: 0.9773 - val_loss: 0.1399 - val_acc: 0.9130\n"
     ]
    },
    {
     "name": "stdout",
     "output_type": "stream",
     "text": [
      "Epoch 61/61\n",
      "11/11 [==============================] - 15s 1s/step - loss: 0.0959 - acc: 0.9659 - val_loss: 0.1501 - val_acc: 0.9565\n"
     ]
    }
   ],
   "source": [
    "#compiling up the model\n",
    "optimizer = Adam(lr=learningRate, decay=learningRate / epochs)\n",
    "model.compile(loss=\"binary_crossentropy\", optimizer=optimizer, metrics=[\"accuracy\"])\n",
    "\n",
    "#training the head of the network\n",
    "networkHead = model.fit_generator(\n",
    "    trainAug.flow(trainX, trainY, batch_size=batchSize),\n",
    "    steps_per_epoch=len(trainX) // batchSize,\n",
    "    validation_data=(testX, testY),\n",
    "    validation_steps=len(testX) // batchSize,\n",
    "    epochs=epochs)"
   ]
  },
  {
   "cell_type": "code",
   "execution_count": 8,
   "metadata": {},
   "outputs": [
    {
     "name": "stdout",
     "output_type": "stream",
     "text": [
      "              precision    recall  f1-score   support\n",
      "\n",
      "       covid       1.00      0.92      0.96        13\n",
      "      normal       0.91      1.00      0.95        10\n",
      "\n",
      "    accuracy                           0.96        23\n",
      "   macro avg       0.95      0.96      0.96        23\n",
      "weighted avg       0.96      0.96      0.96        23\n",
      "\n"
     ]
    }
   ],
   "source": [
    "#making predictions on the testing data\n",
    "predIndexs = model.predict(testX, batch_size=batchSize)\n",
    "\n",
    "\"\"\"for each image in the testing data we need to find the index of the\n",
    "   label with corresponding largest predicted probability\"\"\"\n",
    "predIndexs = np.argmax(predIndexs, axis=1)\n",
    "\n",
    "#printing classification report\n",
    "print(classification_report(testY.argmax(axis=1), predIndexs, target_names=lb.classes_))"
   ]
  },
  {
   "cell_type": "code",
   "execution_count": 9,
   "metadata": {},
   "outputs": [
    {
     "name": "stdout",
     "output_type": "stream",
     "text": [
      "[[12  1]\n",
      " [ 0 10]]\n",
      "acc: 0.9565\n"
     ]
    }
   ],
   "source": [
    "#computing the confusion matrix and use it to derive the raw accuracy\n",
    "cm = confusion_matrix(testY.argmax(axis=1), predIndexs)\n",
    "total = sum(sum(cm))\n",
    "acc = (cm[0, 0] + cm[1, 1]) / total\n",
    "\n",
    "# printing confusion matrix, accuracy\n",
    "print(cm)\n",
    "print(\"acc: {:.4f}\".format(acc))"
   ]
  },
  {
   "cell_type": "code",
   "execution_count": 11,
   "metadata": {
    "scrolled": false
   },
   "outputs": [],
   "source": [
    "#saving the model\n",
    "model.save(args[\"model\"])"
   ]
  },
  {
   "cell_type": "code",
   "execution_count": 10,
   "metadata": {},
   "outputs": [
    {
     "data": {
      "text/plain": [
       "<matplotlib.legend.Legend at 0x7fe14026c650>"
      ]
     },
     "execution_count": 10,
     "metadata": {},
     "output_type": "execute_result"
    },
    {
     "data": {
      "image/png": "[encoded data removed]",
      "text/plain": [
       "<Figure size 432x288 with 1 Axes>"
      ]
     },
     "metadata": {},
     "output_type": "display_data"
    }
   ],
   "source": [
    "#plotting the training loss and accuracy\n",
    "numberEpochs = epochs\n",
    "plt.style.use(\"ggplot\")\n",
    "plt.figure()\n",
    "plt.plot(np.arange(0, numberEpochs), networkHead.history[\"loss\"], label=\"train_loss\")\n",
    "plt.plot(np.arange(0, numberEpochs), networkHead.history[\"val_loss\"], label=\"val_loss\")\n",
    "plt.plot(np.arange(0, numberEpochs), networkHead.history[\"acc\"], label=\"train_acc\")\n",
    "plt.plot(np.arange(0, numberEpochs), networkHead.history[\"val_acc\"], label=\"val_acc\")\n",
    "plt.title(\"COVID-19\")\n",
    "plt.xlabel(\"No. of Epochs\")\n",
    "plt.ylabel(\"Loss/Accuracy\")\n",
    "plt.legend(loc=\"lower left\")"
   ]
  },
  {
   "cell_type": "code",
   "execution_count": 12,
   "metadata": {},
   "outputs": [
    {
     "name": "stdout",
     "output_type": "stream",
     "text": [
      "WARNING:tensorflow:From /home/apoorvsrivastava/anaconda3/lib/python3.7/site-packages/tensorflow/python/ops/init_ops.py:97: calling GlorotUniform.__init__ (from tensorflow.python.ops.init_ops) with dtype is deprecated and will be removed in a future version.\n",
      "Instructions for updating:\n",
      "Call initializer instance with the dtype argument instead of passing it to the constructor\n",
      "WARNING:tensorflow:From /home/apoorvsrivastava/anaconda3/lib/python3.7/site-packages/tensorflow/python/ops/init_ops.py:97: calling Zeros.__init__ (from tensorflow.python.ops.init_ops) with dtype is deprecated and will be removed in a future version.\n",
      "Instructions for updating:\n",
      "Call initializer instance with the dtype argument instead of passing it to the constructor\n"
     ]
    }
   ],
   "source": [
    "#testing out the model\n",
    "import tensorflow as tf\n",
    "\n",
    "#loading the model\n",
    "model = tf.keras.models.load_model(\"/home/apoorvsrivastava/detect-corona/corona.model\")"
   ]
  },
  {
   "cell_type": "code",
   "execution_count": 18,
   "metadata": {},
   "outputs": [],
   "source": [
    "#picking up test image-Normal\n",
    "testImage = cv2.imread(\"/home/apoorvsrivastava/chest-xray-pneumonia/chest_xray/test/NORMAL/NORMAL2-IM-0013-0001.jpeg\")"
   ]
  },
  {
   "cell_type": "code",
   "execution_count": 22,
   "metadata": {},
   "outputs": [],
   "source": [
    "#picking up test image-Corona\n",
    "\n",
    "testImage = cv2.imread(\"/home/apoorvsrivastava/Downloads/covid-chestxray-dataset-master/images/23E99E2E-447C-46E5-8EB2-D35D12473C39.png\")"
   ]
  },
  {
   "cell_type": "code",
   "execution_count": 23,
   "metadata": {},
   "outputs": [],
   "source": [
    "#preprocessing the test image\n",
    "image = cv2.cvtColor(testImage, cv2.COLOR_BGR2RGB)\n",
    "image = cv2.resize(image, (224, 224))\n",
    "image = image.astype(\"float\") / 255.0"
   ]
  },
  {
   "cell_type": "code",
   "execution_count": 24,
   "metadata": {},
   "outputs": [],
   "source": [
    "#reshaping the numpy array according to image size\n",
    "image = np.array(image).reshape(1,224,224,3)\n",
    "\n",
    "#doing prediction on test image\n",
    "pred = model.predict(image)\n",
    "pred = pred.argmax(axis=1)[0]"
   ]
  },
  {
   "cell_type": "code",
   "execution_count": 25,
   "metadata": {},
   "outputs": [],
   "source": [
    "#putting text on image and showing output image\n",
    "imageText = \"Corona Negative\" if pred == 1 else \"Corona Positive\"\n",
    "color = (0, 255, 0) if pred == 1 else (0, 0, 255)\n",
    "\n",
    "testImage = cv2.resize(testImage, (424, 424))\n",
    "cv2.putText(testImage, imageText, (3, 20), cv2.FONT_ITALIC, 0.5,color, 2)\n",
    "cv2.imshow(\"Results\", testImage)\n",
    "cv2.waitKey(0)\n",
    "cv2.destroyAllWindows()"
   ]
  },
  {
   "cell_type": "code",
   "execution_count": null,
   "metadata": {},
   "outputs": [],
   "source": []
  }
 ],
 "metadata": {
  "kernelspec": {
   "display_name": "Python 3",
   "language": "python",
   "name": "python3"
  },
  "language_info": {
   "codemirror_mode": {
    "name": "ipython",
    "version": 3
   },
   "file_extension": ".py",
   "mimetype": "text/x-python",
   "name": "python",
   "nbconvert_exporter": "python",
   "pygments_lexer": "ipython3",
   "version": "3.7.4"
  }
 },
 "nbformat": 4,
 "nbformat_minor": 2
}
